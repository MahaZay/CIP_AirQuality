{
 "cells": [
  {
   "cell_type": "markdown",
   "id": "a86f9282-613e-4c01-96d2-bf6e0803c972",
   "metadata": {},
   "source": [
    "# Renewable Energy Data \n",
    "\n",
    "This Jupyter Notebook focuses on the cleaning and transformation of renewable energy data.\n"
   ]
  },
  {
   "cell_type": "code",
   "execution_count": 28,
   "id": "db49926a-07f4-4ba1-82cf-9c7014d4318c",
   "metadata": {},
   "outputs": [],
   "source": [
    "# Import Packages"
   ]
  },
  {
   "cell_type": "code",
   "execution_count": 29,
   "id": "55a3abb2-1ef4-4640-ba3b-d8c9f11e62c0",
   "metadata": {},
   "outputs": [],
   "source": [
    "import mechanicalsoup\n",
    "import pandas as pd\n",
    "import numpy as np\n",
    "import random"
   ]
  },
  {
   "cell_type": "code",
   "execution_count": 30,
   "id": "70f92989-36c6-4af3-967a-6578a0fd92a1",
   "metadata": {},
   "outputs": [],
   "source": [
    "# Load the dataset into a DataFrame\n",
    "\n",
    "# Specify the file path\n",
    "file_path = '1.renewable_energy_stage1.csv'\n",
    "\n",
    "# Load the scraped data from the CSV file\n",
    "df = pd.read_csv(file_path)"
   ]
  },
  {
   "cell_type": "code",
   "execution_count": 31,
   "id": "588c5415",
   "metadata": {},
   "outputs": [
    {
     "name": "stdout",
     "output_type": "stream",
     "text": [
      "Initial DataFrame:\n",
      "                Land  2018  2019\n",
      "0  Europäische Union  18.0  18.8\n",
      "1           Albanien  36.8  36.7\n",
      "2            Belgien   9.4   9.9\n",
      "3          Bulgarien  20.5  21.6\n",
      "4           Dänemark  35.4  37.2\n"
     ]
    }
   ],
   "source": [
    "# Inspect the DataFrame\n",
    "print(\"Initial DataFrame:\")\n",
    "print(df.head())\n"
   ]
  },
  {
   "cell_type": "code",
   "execution_count": 32,
   "id": "eecaecef-bf39-4261-8206-0f6c905da438",
   "metadata": {},
   "outputs": [],
   "source": [
    "# Rename the 'Land' column to 'Country'\n",
    "df.rename(columns={'Land': 'Country'}, inplace=True)"
   ]
  },
  {
   "cell_type": "code",
   "execution_count": 33,
   "id": "8131838a-cf3e-4348-823e-e4522aece4f5",
   "metadata": {},
   "outputs": [
    {
     "name": "stdout",
     "output_type": "stream",
     "text": [
      "\n",
      "Missing values:\n",
      "Country    0\n",
      "2018       0\n",
      "2019       0\n",
      "dtype: int64\n"
     ]
    }
   ],
   "source": [
    "# Print number of missing values in each column\n",
    "print(\"\\nMissing values:\")\n",
    "print(df.isnull().sum())"
   ]
  },
  {
   "cell_type": "code",
   "execution_count": 34,
   "id": "fc63788d-cd77-486d-b32e-5b0d75853c47",
   "metadata": {},
   "outputs": [],
   "source": [
    "# Add Impurities "
   ]
  },
  {
   "cell_type": "code",
   "execution_count": 35,
   "id": "58565065-3a4e-4aa3-b240-a951bb5ae109",
   "metadata": {},
   "outputs": [],
   "source": [
    "# Create a list of random row indices to duplicate\n",
    "num_duplicates = 20  # Adjust the number of duplicates as needed\n",
    "duplicate_indices = random.choices(range(len(df)), k=num_duplicates)\n",
    "\n",
    "# Append the selected duplicate rows to the DataFrame\n",
    "duplicate_rows = df.iloc[duplicate_indices]\n",
    "df = pd.concat([df, duplicate_rows], ignore_index=True)"
   ]
  },
  {
   "cell_type": "code",
   "execution_count": 36,
   "id": "fdea2c97-96b6-4d60-9b01-b6a2dac104f8",
   "metadata": {},
   "outputs": [
    {
     "name": "stdout",
     "output_type": "stream",
     "text": [
      "             Country  2018  2019\n",
      "0  Europäische Union  18.0  18.8\n",
      "1           Albanien  36.8  36.7\n",
      "2            Belgien   9.4   9.9\n",
      "3          Bulgarien  20.5  21.6\n",
      "4           Dänemark  35.4  37.2\n"
     ]
    }
   ],
   "source": [
    "# Changing Data types\n",
    "def change_data_types(df, num_columns_to_change=3):\n",
    "    \"\"\"\n",
    "    Randomly selects a specified number of columns and changes their data types to int, float, or str.\n",
    "    The function skips columns with non-numeric values when changing to int or float types.\n",
    "    \"\"\"\n",
    "    numeric_columns = df.select_dtypes(include=[float, int]).columns.tolist()\n",
    "    non_numeric_columns = df.select_dtypes(exclude=[float, int]).columns.tolist()\n",
    "\n",
    "    columns_to_change = random.sample(df.columns.tolist(), num_columns_to_change)\n",
    "    changed_columns = []\n",
    "\n",
    "    for column_name in columns_to_change:\n",
    "        new_data_type = random.choice([int, float, str]) if column_name in numeric_columns else str\n",
    "\n",
    "        if new_data_type == int:\n",
    "            df[column_name] = df[column_name].astype(int)\n",
    "        elif new_data_type == float:\n",
    "            df[column_name] = df[column_name].astype(float)\n",
    "        elif new_data_type == str:\n",
    "            df[column_name] = df[column_name].astype(str)\n",
    "        \n",
    "        changed_columns.append((column_name, new_data_type.__name__))\n",
    "\n",
    "    return df, changed_columns\n",
    "\n",
    "# Applying the function to the DataFrame\n",
    "df_with_changed_types, _ = change_data_types(df.copy(), num_columns_to_change=2)\n",
    "\n",
    "# Print the head of the modified DataFrame\n",
    "print(df_with_changed_types.head())"
   ]
  },
  {
   "cell_type": "code",
   "execution_count": 37,
   "id": "3a5e6fa2-58e1-457f-b867-07328a2970e4",
   "metadata": {},
   "outputs": [
    {
     "data": {
      "text/html": [
       "<div>\n",
       "<style scoped>\n",
       "    .dataframe tbody tr th:only-of-type {\n",
       "        vertical-align: middle;\n",
       "    }\n",
       "\n",
       "    .dataframe tbody tr th {\n",
       "        vertical-align: top;\n",
       "    }\n",
       "\n",
       "    .dataframe thead th {\n",
       "        text-align: right;\n",
       "    }\n",
       "</style>\n",
       "<table border=\"1\" class=\"dataframe\">\n",
       "  <thead>\n",
       "    <tr style=\"text-align: right;\">\n",
       "      <th></th>\n",
       "      <th>Country</th>\n",
       "      <th>2018</th>\n",
       "      <th>2019</th>\n",
       "    </tr>\n",
       "  </thead>\n",
       "  <tbody>\n",
       "    <tr>\n",
       "      <th>0</th>\n",
       "      <td>Europäische Union</td>\n",
       "      <td>18.0</td>\n",
       "      <td>18.8</td>\n",
       "    </tr>\n",
       "    <tr>\n",
       "      <th>1</th>\n",
       "      <td>albanien</td>\n",
       "      <td>36.8</td>\n",
       "      <td>36.7</td>\n",
       "    </tr>\n",
       "    <tr>\n",
       "      <th>2</th>\n",
       "      <td>belgien</td>\n",
       "      <td>9.4</td>\n",
       "      <td>9.9</td>\n",
       "    </tr>\n",
       "    <tr>\n",
       "      <th>3</th>\n",
       "      <td>Bulgarien</td>\n",
       "      <td>20.5</td>\n",
       "      <td>21.6</td>\n",
       "    </tr>\n",
       "    <tr>\n",
       "      <th>4</th>\n",
       "      <td>Dänemark</td>\n",
       "      <td>35.4</td>\n",
       "      <td>37.2</td>\n",
       "    </tr>\n",
       "  </tbody>\n",
       "</table>\n",
       "</div>"
      ],
      "text/plain": [
       "             Country  2018  2019\n",
       "0  Europäische Union  18.0  18.8\n",
       "1           albanien  36.8  36.7\n",
       "2            belgien   9.4   9.9\n",
       "3          Bulgarien  20.5  21.6\n",
       "4           Dänemark  35.4  37.2"
      ]
     },
     "execution_count": 37,
     "metadata": {},
     "output_type": "execute_result"
    }
   ],
   "source": [
    "# Introducing an impurity by changing some random Country names to lowercase\n",
    "lowercase_indices = random.sample(range(len(df)), 10)  # Randomly select 10 indices\n",
    "df.loc[lowercase_indices, 'Country'] = df.loc[lowercase_indices, 'Country'].str.lower()\n",
    "\n",
    "# Displaying the modified DataFrame to verify the changes\n",
    "df.head()\n"
   ]
  },
  {
   "cell_type": "code",
   "execution_count": 38,
   "id": "cccfae22-d423-493c-b895-289aa2e4b3b8",
   "metadata": {},
   "outputs": [
    {
     "name": "stderr",
     "output_type": "stream",
     "text": [
      "/tmp/ipykernel_12272/967569814.py:5: FutureWarning: Setting an item of incompatible dtype is deprecated and will raise in a future error of pandas. Value '['10.9%' '36.8%' '54.6%' '33.8%' '12.5%']' has dtype incompatible with float64, please explicitly cast to a compatible dtype first.\n",
      "  df.loc[year_2018_indices, '2018'] = df.loc[year_2018_indices, '2018'].astype(str) + \"%\"\n",
      "/tmp/ipykernel_12272/967569814.py:6: FutureWarning: Setting an item of incompatible dtype is deprecated and will raise in a future error of pandas. Value '['31.9%' '7.0%' '21.6%' '31.9%' '16.9%']' has dtype incompatible with float64, please explicitly cast to a compatible dtype first.\n",
      "  df.loc[year_2019_indices, '2019'] = df.loc[year_2019_indices, '2019'].astype(str) + \"%\"\n"
     ]
    },
    {
     "data": {
      "text/html": [
       "<div>\n",
       "<style scoped>\n",
       "    .dataframe tbody tr th:only-of-type {\n",
       "        vertical-align: middle;\n",
       "    }\n",
       "\n",
       "    .dataframe tbody tr th {\n",
       "        vertical-align: top;\n",
       "    }\n",
       "\n",
       "    .dataframe thead th {\n",
       "        text-align: right;\n",
       "    }\n",
       "</style>\n",
       "<table border=\"1\" class=\"dataframe\">\n",
       "  <thead>\n",
       "    <tr style=\"text-align: right;\">\n",
       "      <th></th>\n",
       "      <th>Country</th>\n",
       "      <th>2018</th>\n",
       "      <th>2019</th>\n",
       "    </tr>\n",
       "  </thead>\n",
       "  <tbody>\n",
       "    <tr>\n",
       "      <th>0</th>\n",
       "      <td>Europäische Union</td>\n",
       "      <td>18.0</td>\n",
       "      <td>18.8</td>\n",
       "    </tr>\n",
       "    <tr>\n",
       "      <th>1</th>\n",
       "      <td>albanien</td>\n",
       "      <td>36.8%</td>\n",
       "      <td>36.7</td>\n",
       "    </tr>\n",
       "    <tr>\n",
       "      <th>2</th>\n",
       "      <td>belgien</td>\n",
       "      <td>9.4</td>\n",
       "      <td>9.9</td>\n",
       "    </tr>\n",
       "    <tr>\n",
       "      <th>3</th>\n",
       "      <td>Bulgarien</td>\n",
       "      <td>20.5</td>\n",
       "      <td>21.6%</td>\n",
       "    </tr>\n",
       "    <tr>\n",
       "      <th>4</th>\n",
       "      <td>Dänemark</td>\n",
       "      <td>35.4</td>\n",
       "      <td>37.2</td>\n",
       "    </tr>\n",
       "  </tbody>\n",
       "</table>\n",
       "</div>"
      ],
      "text/plain": [
       "             Country   2018   2019\n",
       "0  Europäische Union   18.0   18.8\n",
       "1           albanien  36.8%   36.7\n",
       "2            belgien    9.4    9.9\n",
       "3          Bulgarien   20.5  21.6%\n",
       "4           Dänemark   35.4   37.2"
      ]
     },
     "execution_count": 38,
     "metadata": {},
     "output_type": "execute_result"
    }
   ],
   "source": [
    "# Adjusting the provided code to add '%' to random values in '2018' and '2019' columns\n",
    "year_2018_indices = random.sample(range(len(df)), 5)  # Randomly select 10 indices for 2018\n",
    "year_2019_indices = random.sample(range(len(df)), 5)  # Randomly select 10 indices for 2019\n",
    "\n",
    "df.loc[year_2018_indices, '2018'] = df.loc[year_2018_indices, '2018'].astype(str) + \"%\"\n",
    "df.loc[year_2019_indices, '2019'] = df.loc[year_2019_indices, '2019'].astype(str) + \"%\"\n",
    "\n",
    "# Displaying the modified DataFrame to verify the changes\n",
    "df.head()"
   ]
  },
  {
   "cell_type": "code",
   "execution_count": 39,
   "id": "a48581eb-737a-4e76-9ff2-8df7ddc6987c",
   "metadata": {},
   "outputs": [],
   "source": [
    "# Save the updated DataFrame to a new CSV file\n",
    "output_file_path = '2.renewable_energy_with_impurities_stage2.csv'\n",
    "df.to_csv(output_file_path, index=False)"
   ]
  },
  {
   "cell_type": "code",
   "execution_count": null,
   "id": "65cfaac7-5ad3-40ba-b81c-7d5bdff6f379",
   "metadata": {},
   "outputs": [],
   "source": []
  },
  {
   "cell_type": "code",
   "execution_count": null,
   "id": "1e73d967-3b92-4b60-9ad5-a7a73a639577",
   "metadata": {},
   "outputs": [],
   "source": []
  },
  {
   "cell_type": "code",
   "execution_count": null,
   "id": "5040eb54-36e0-41e1-8f26-a224c6b525d8",
   "metadata": {},
   "outputs": [],
   "source": []
  },
  {
   "cell_type": "code",
   "execution_count": 13,
   "id": "19087c64-2ecd-466f-bfc3-744ba2434e54",
   "metadata": {},
   "outputs": [],
   "source": [
    "# Cleaning Data "
   ]
  },
  {
   "cell_type": "code",
   "execution_count": 12,
   "id": "81a50dc5-4b5a-41a7-be90-964a9a822712",
   "metadata": {},
   "outputs": [],
   "source": [
    "# Load the dataset into a DataFrame\n",
    "# Specify the file path\n",
    "file_path = '2.renewable_energy_with_impurities_stage2.csv'\n",
    "\n",
    "# Load the scraped data from the CSV file\n",
    "df = pd.read_csv(file_path)"
   ]
  },
  {
   "cell_type": "code",
   "execution_count": 14,
   "id": "c60ff2f6",
   "metadata": {},
   "outputs": [
    {
     "name": "stdout",
     "output_type": "stream",
     "text": [
      "\n",
      "Data types:\n",
      "Country    object\n",
      "2018       object\n",
      "2019       object\n",
      "dtype: object\n"
     ]
    }
   ],
   "source": [
    "# Print data types of each column\n",
    "print(\"\\nData types:\")\n",
    "print(df.dtypes)"
   ]
  },
  {
   "cell_type": "code",
   "execution_count": 15,
   "id": "e7517e77-ef5a-41e3-a1fb-3e3ad36c1268",
   "metadata": {},
   "outputs": [
    {
     "data": {
      "text/plain": [
       "Country     object\n",
       "2018       float64\n",
       "2019       float64\n",
       "dtype: object"
      ]
     },
     "execution_count": 15,
     "metadata": {},
     "output_type": "execute_result"
    }
   ],
   "source": [
    "# Changing the '2018' and '2019' columns to float data types\n",
    "# This requires first removing any non-numeric characters (like the \"%\") from these columns\n",
    "df['2018'] = df['2018'].replace('[^\\d.]', '', regex=True).astype(float)\n",
    "df['2019'] = df['2019'].replace('[^\\d.]', '', regex=True).astype(float)\n",
    "\n",
    "# Displaying the data types of the columns after the change\n",
    "df.dtypes\n"
   ]
  },
  {
   "cell_type": "code",
   "execution_count": 16,
   "id": "907957a4-9902-4d69-bd13-4d7c568d39b8",
   "metadata": {},
   "outputs": [
    {
     "name": "stdout",
     "output_type": "stream",
     "text": [
      "Country names after ensuring they start with an uppercase letter:\n",
      "['Albanien', 'Belgien', 'Bulgarien', 'Deutschland', 'Dänemark', 'Estland', 'Europäische Union', 'Finnland', 'Frankreich', 'Griechenland', 'Irland', 'Island', 'Italien', 'Kosovo', 'Kroatien', 'Lettland', 'Litauen', 'Luxemburg', 'Malta', 'Niederlande', 'Polen', 'Portugal', 'Rumänien', 'Schweden', 'Slowakei', 'Slowenien', 'Spanien', 'Tschechien', 'Ungarn', 'Vereinigtes Königreich', 'Zypern', 'Österreich']\n"
     ]
    }
   ],
   "source": [
    "def ensure_countries_start_uppercase(df):\n",
    "    \"\"\"\n",
    "    Ensures that country names in the 'Land' column start with an uppercase letter.\n",
    "    Converts them to title case if they don't.\n",
    "    \"\"\"\n",
    "    # Convert country names to title case if they don't start with an uppercase letter\n",
    "    df['Country'] = df['Country'].apply(lambda x: x.title() if isinstance(x, str) and not x.istitle() else x)\n",
    "\n",
    "    return df\n",
    "\n",
    "# Applying the function to the DataFrame\n",
    "df = ensure_countries_start_uppercase(df)\n",
    "\n",
    "# Display the DataFrame to verify the changes\n",
    "print(\"Country names after ensuring they start with an uppercase letter:\")\n",
    "print(sorted(df['Country'].unique()))"
   ]
  },
  {
   "cell_type": "code",
   "execution_count": null,
   "id": "9d62c554",
   "metadata": {},
   "outputs": [],
   "source": [
    "# Dictionary for translating German country names to English\n",
    "german_to_english_countries = {\n",
    "    \"Europäische Union\": \"European Union\",\n",
    "    \"Albanien\": \"Albania\",\n",
    "    \"Belgien\": \"Belgium\",\n",
    "    \"Bulgarien\": \"Bulgaria\",\n",
    "    \"Dänemark\": \"Denmark\",\n",
    "    \"Deutschland\": \"Germany\",\n",
    "    \"Estland\": \"Estonia\",\n",
    "    \"Finnland\": \"Finland\",\n",
    "    \"Frankreich\": \"France\",\n",
    "    \"Griechenland\": \"Greece\",\n",
    "    \"Irland\": \"Ireland\",\n",
    "    \"Island\": \"Iceland\",\n",
    "    \"Italien\": \"Italy\",\n",
    "    \"Kosovo\": \"Kosovo\",\n",
    "    \"Kroatien\": \"Croatia\",\n",
    "    \"Lettland\": \"Latvia\",\n",
    "    \"Litauen\": \"Lithuania\",\n",
    "    \"Luxemburg\": \"Luxembourg\",\n",
    "    \"Malta\": \"Malta\",\n",
    "    \"Niederlande\": \"Netherlands\",\n",
    "    \"Österreich\": \"Austria\",\n",
    "    \"Polen\": \"Poland\",\n",
    "    \"Portugal\": \"Portugal\",\n",
    "    \"Rumänien\": \"Romania\",\n",
    "    \"Schweden\": \"Sweden\",\n",
    "    \"Slowakei\": \"Slovakia\",\n",
    "    \"Slowenien\": \"Slovenia\",\n",
    "    \"Spanien\": \"Spain\",\n",
    "    \"Tschechien\": \"Czech Republic\",\n",
    "    \"Ungarn\": \"Hungary\",\n",
    "    \"Vereinigtes Königreich\": \"United Kingdom\",\n",
    "    \"Zypern\": \"Cyprus\"\n",
    "}\n"
   ]
  },
  {
   "cell_type": "code",
   "execution_count": null,
   "id": "51216709",
   "metadata": {},
   "outputs": [],
   "source": [
    "# Replace German country names with English names in the DataFrame\n",
    "df['Country'] = df['Country'].replace(german_to_english_countries)\n",
    "print(sorted(df['Country'].unique()))"
   ]
  },
  {
   "cell_type": "code",
   "execution_count": null,
   "id": "679744c5-dc80-455d-9947-331f51c11f1c",
   "metadata": {},
   "outputs": [],
   "source": [
    "# Transform df to have a 'Year' column\n",
    "df = df.melt(id_vars=['Country'], var_name='Year', value_name='RenewableData')\n",
    "df['Year'] = df['Year'].astype(int)\n"
   ]
  },
  {
   "cell_type": "code",
   "execution_count": null,
   "id": "1bd9add7-effd-48a3-a057-227b05d39b93",
   "metadata": {},
   "outputs": [],
   "source": [
    "print(df.head())"
   ]
  },
  {
   "cell_type": "code",
   "execution_count": null,
   "id": "c6d1bd93-3422-439c-8829-0425964d45ea",
   "metadata": {},
   "outputs": [],
   "source": [
    "# Check for Duplicates\n",
    "duplicates = df.duplicated().sum()\n",
    "print(f\"Number of duplicate rows: {duplicates}\")\n"
   ]
  },
  {
   "cell_type": "code",
   "execution_count": null,
   "id": "5ad8cf13",
   "metadata": {},
   "outputs": [],
   "source": [
    "#Display basic information about the DataFrame\n",
    "print(\"DataFrame Info:\")\n",
    "print(df.info())\n",
    "\n",
    "# Check for missing values\n",
    "print(\"\\nMissing Values:\")\n",
    "print(df.isnull().sum())\n",
    "\n",
    "# Check for duplicate rows\n",
    "duplicate_rows = df.duplicated().sum()\n",
    "print(\"\\nNumber of Duplicate Rows:\", duplicate_rows)\n",
    "\n",
    "# Descriptive statistics for numerical columns\n",
    "print(\"\\nDescriptive Statistics for Numerical Columns:\")\n",
    "print(df.describe())\n",
    "\n",
    "# Checking unique values for potential inconsistencies in categorical data\n",
    "print(\"\\nUnique Values in Categorical Columns:\")\n",
    "for col in df.select_dtypes(include=['object']).columns:\n",
    "    print(f\"\\nUnique values in {col}:\")\n",
    "    print(df[col].unique())"
   ]
  },
  {
   "cell_type": "code",
   "execution_count": null,
   "id": "61a58d2f-5985-407f-b5bb-81311aeae243",
   "metadata": {},
   "outputs": [],
   "source": [
    "# Add aggregated  Average Renewable Energy Data Coulmn by Country"
   ]
  },
  {
   "cell_type": "code",
   "execution_count": null,
   "id": "7d520530-7be6-4aab-a256-169225da645f",
   "metadata": {},
   "outputs": [],
   "source": [
    "# Calculate the average renewable data across the years for each country\n",
    "average_data = df.groupby('Country')['RenewableData'].mean().reset_index()\n",
    "average_data['Average Renewable Data'] = average_data['RenewableData'].round(2) # round to 2 decimal places\n",
    "\n",
    "# Merge the average data back into the original DataFrame\n",
    "df = df.merge(average_data[['Country', 'Average Renewable Data']], on='Country', how='left')\n",
    "\n",
    "# Show the first few rows of the DataFrame sorted by average renewable data\n",
    "print(df.head())"
   ]
  },
  {
   "cell_type": "code",
   "execution_count": 40,
   "id": "576eb253-23ac-48ba-b397-e8350aaafa51",
   "metadata": {},
   "outputs": [],
   "source": [
    "# Save the updated DataFrame to a new CSV file\n",
    "output_file_path = '3.cleaned_renewable_energy_stage3.csv'\n",
    "df.to_csv(output_file_path, index=False)"
   ]
  },
  {
   "cell_type": "code",
   "execution_count": null,
   "id": "5621a506-386b-42d9-9990-e73a136da1b3",
   "metadata": {},
   "outputs": [],
   "source": []
  },
  {
   "cell_type": "code",
   "execution_count": null,
   "id": "b74190f9-ce27-42b0-92fd-740ca0213ea3",
   "metadata": {},
   "outputs": [],
   "source": []
  },
  {
   "cell_type": "code",
   "execution_count": null,
   "id": "c721340d-cec9-4048-a0fb-c15fb58ff4bb",
   "metadata": {},
   "outputs": [],
   "source": []
  }
 ],
 "metadata": {
  "kernelspec": {
   "display_name": "Python 3 (ipykernel)",
   "language": "python",
   "name": "python3"
  },
  "language_info": {
   "codemirror_mode": {
    "name": "ipython",
    "version": 3
   },
   "file_extension": ".py",
   "mimetype": "text/x-python",
   "name": "python",
   "nbconvert_exporter": "python",
   "pygments_lexer": "ipython3",
   "version": "3.10.12"
  }
 },
 "nbformat": 4,
 "nbformat_minor": 5
}
