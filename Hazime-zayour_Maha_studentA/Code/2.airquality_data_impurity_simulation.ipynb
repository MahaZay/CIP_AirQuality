{
 "cells": [
  {
   "cell_type": "code",
   "execution_count": 1,
   "id": "cfbcec2e-b134-414a-9a3f-633828eef8fa",
   "metadata": {},
   "outputs": [],
   "source": [
    "import pandas as pd\n",
    "import numpy as np\n",
    "import random"
   ]
  },
  {
   "cell_type": "code",
   "execution_count": 2,
   "id": "ef5cb0d6-2ffa-4001-aad0-73778e5dcaae",
   "metadata": {},
   "outputs": [],
   "source": [
    "# Load the dataset into a DataFrame\n",
    "# Specify the file path\n",
    "file_path = '1.scraped_airquality_data_stage1.csv'\n",
    "\n",
    "# Load the scraped data from the CSV file\n",
    "df = pd.read_csv(file_path)"
   ]
  },
  {
   "cell_type": "code",
   "execution_count": 3,
   "id": "a462e7f3-e903-4940-b795-5b27e5257526",
   "metadata": {},
   "outputs": [
    {
     "name": "stdout",
     "output_type": "stream",
     "text": [
      "   Year  Country Air Pollutant  Population  Populated Area [km2]  \\\n",
      "0  2018  Austria           NO2     8822183                 43050   \n",
      "1  2018  Austria            O3     8822183                 43050   \n",
      "2  2018  Austria          PM10     8822183                 43050   \n",
      "3  2018  Austria         PM2.5     8822183                 43050   \n",
      "4  2019  Austria           NO2     8858695                 43050   \n",
      "\n",
      "   Air Pollution Average [ug/m3]  Premature Deaths  Years Of Life Lost  \n",
      "0                            9.5            1228.0             12796.0  \n",
      "1                         7867.9             619.0              6756.0  \n",
      "2                           15.4               NaN                 NaN  \n",
      "3                           11.2            5001.0             52145.0  \n",
      "4                            8.7            1038.0             10735.0  \n"
     ]
    }
   ],
   "source": [
    "# Display the first few rows of the DataFrame\n",
    "print(df.head())"
   ]
  },
  {
   "cell_type": "code",
   "execution_count": 4,
   "id": "44fb1fb1-9434-434b-b72e-a789a85824c3",
   "metadata": {},
   "outputs": [
    {
     "name": "stdout",
     "output_type": "stream",
     "text": [
      "['Austria', 'Belgium', 'Bulgaria', 'Croatia', 'Cyprus', 'Czechia', 'Denmark', 'Estonia', 'European Union Countries', 'Finland', 'France', 'Germany', 'Greece', 'Hungary', 'Ireland', 'Italy', 'Latvia', 'Lithuania', 'Luxembourg', 'Malta', 'Netherlands', 'Poland', 'Slovakia', 'Slovenia', 'Spain']\n"
     ]
    }
   ],
   "source": [
    "# Extract and print the unique values from the 'Country' column.\n",
    "unique_countries_df = print(sorted(df['Country'].unique()))"
   ]
  },
  {
   "cell_type": "code",
   "execution_count": 5,
   "id": "5af53414-b872-4710-875c-00b6c2368185",
   "metadata": {},
   "outputs": [],
   "source": [
    "# Adding Impurities to the Dataset\n",
    "# The following section of the code is designed to introduce some impurities into our data. It is added to simulate\n",
    "# conditions where datasets may not be perfect or may contain various types of noise or errors:"
   ]
  },
  {
   "cell_type": "code",
   "execution_count": 8,
   "id": "d298bdad-ae95-40c2-a38a-35eb87a38ca7",
   "metadata": {},
   "outputs": [],
   "source": [
    "# Impurity 1: Adding Duplicates"
   ]
  },
  {
   "cell_type": "code",
   "execution_count": 9,
   "id": "20afb0cd-6f03-4e3f-b488-6f8f8e0493ff",
   "metadata": {},
   "outputs": [],
   "source": [
    "# Create a list of random row indices to duplicate\n",
    "num_duplicates = 20  # Adjust the number of duplicates as needed\n",
    "duplicate_indices = random.choices(range(len(df)), k=num_duplicates)\n",
    "\n",
    "# Append the selected duplicate rows to the DataFrame\n",
    "duplicate_rows = df.iloc[duplicate_indices]\n",
    "df = pd.concat([df, duplicate_rows], ignore_index=True)"
   ]
  },
  {
   "cell_type": "code",
   "execution_count": 10,
   "id": "d6d68119-26e6-4ea2-9db9-249414e88479",
   "metadata": {},
   "outputs": [],
   "source": [
    "# Impurity 2: Changing Data Types Randomly"
   ]
  },
  {
   "cell_type": "code",
   "execution_count": 11,
   "id": "b8909c69-83e9-4ec0-bc03-65f9c5b05333",
   "metadata": {},
   "outputs": [
    {
     "data": {
      "text/plain": [
       "[('Populated Area [km2]', 'float'),\n",
       " ('Air Pollution Average [ug/m3]', 'str'),\n",
       " ('Population', 'str'),\n",
       " ('Year', 'float')]"
      ]
     },
     "execution_count": 11,
     "metadata": {},
     "output_type": "execute_result"
    }
   ],
   "source": [
    "def change_data_types(df, num_columns_to_change=3):\n",
    "    \"\"\"\n",
    "    Randomly selects a specified number of columns and changes their data types to int, float, or str.\n",
    "    The function skips columns with non-numeric values when changing to int or float types.\n",
    "    \"\"\" \n",
    "    columns_to_change = random.sample(df.columns.tolist(), num_columns_to_change)\n",
    "    changed_columns = []\n",
    "\n",
    "    for column_name in columns_to_change:\n",
    "        new_data_type = random.choice([int, float, str])\n",
    "\n",
    "        # Check if the current column contains non-numeric values\n",
    "        if not pd.to_numeric(df[column_name], errors='coerce').notna().all():\n",
    "            continue\n",
    "\n",
    "        if new_data_type == int:\n",
    "            df[column_name] = df[column_name].astype(int)\n",
    "        elif new_data_type == float:\n",
    "            df[column_name] = df[column_name].astype(float)\n",
    "        elif new_data_type == str:\n",
    "            df[column_name] = df[column_name].astype(str)\n",
    "        \n",
    "        changed_columns.append((column_name, new_data_type.__name__))\n",
    "\n",
    "    return df, changed_columns\n",
    "\n",
    "# Using the function on the DataFrame\n",
    "df_with_changed_types, changed_columns_info = change_data_types(df.copy(), num_columns_to_change=5)\n",
    "\n",
    "# Printing the columns that had their types changed\n",
    "changed_columns_info"
   ]
  },
  {
   "cell_type": "code",
   "execution_count": 12,
   "id": "9ee6a0e3-2cac-4131-b68a-57025d3560f8",
   "metadata": {},
   "outputs": [],
   "source": [
    "# Impurity 3:Changing Year formate"
   ]
  },
  {
   "cell_type": "code",
   "execution_count": 13,
   "id": "6259c8ed-5157-4ed1-9c15-d988dfdb94d4",
   "metadata": {},
   "outputs": [
    {
     "name": "stderr",
     "output_type": "stream",
     "text": [
      "/tmp/ipykernel_10944/98942497.py:3: FutureWarning: Setting an item of incompatible dtype is deprecated and will raise in a future error of pandas. Value '['2018 year' '2019 year' '2019 year' '2019 year' '2019 year' '2018 year'\n",
      " '2018 year' '2019 year' '2018 year' '2018 year']' has dtype incompatible with int64, please explicitly cast to a compatible dtype first.\n",
      "  df.loc[year_indices, 'Year'] = df.loc[year_indices, 'Year'].apply(lambda x: f\"{x} year\")\n"
     ]
    },
    {
     "data": {
      "text/html": [
       "<div>\n",
       "<style scoped>\n",
       "    .dataframe tbody tr th:only-of-type {\n",
       "        vertical-align: middle;\n",
       "    }\n",
       "\n",
       "    .dataframe tbody tr th {\n",
       "        vertical-align: top;\n",
       "    }\n",
       "\n",
       "    .dataframe thead th {\n",
       "        text-align: right;\n",
       "    }\n",
       "</style>\n",
       "<table border=\"1\" class=\"dataframe\">\n",
       "  <thead>\n",
       "    <tr style=\"text-align: right;\">\n",
       "      <th></th>\n",
       "      <th>Year</th>\n",
       "      <th>Country</th>\n",
       "      <th>Air Pollutant</th>\n",
       "      <th>Population</th>\n",
       "      <th>Populated Area [km2]</th>\n",
       "      <th>Air Pollution Average [ug/m3]</th>\n",
       "      <th>Premature Deaths</th>\n",
       "      <th>Years Of Life Lost</th>\n",
       "    </tr>\n",
       "  </thead>\n",
       "  <tbody>\n",
       "    <tr>\n",
       "      <th>0</th>\n",
       "      <td>2018</td>\n",
       "      <td>Austria</td>\n",
       "      <td>NO2</td>\n",
       "      <td>8822183</td>\n",
       "      <td>43050</td>\n",
       "      <td>9.5</td>\n",
       "      <td>1228.0</td>\n",
       "      <td>12796.0</td>\n",
       "    </tr>\n",
       "    <tr>\n",
       "      <th>1</th>\n",
       "      <td>2018</td>\n",
       "      <td>Austria</td>\n",
       "      <td>O3</td>\n",
       "      <td>8822183</td>\n",
       "      <td>43050</td>\n",
       "      <td>7867.9</td>\n",
       "      <td>619.0</td>\n",
       "      <td>6756.0</td>\n",
       "    </tr>\n",
       "    <tr>\n",
       "      <th>2</th>\n",
       "      <td>2018</td>\n",
       "      <td>Austria</td>\n",
       "      <td>PM10</td>\n",
       "      <td>8822183</td>\n",
       "      <td>43050</td>\n",
       "      <td>15.4</td>\n",
       "      <td>NaN</td>\n",
       "      <td>NaN</td>\n",
       "    </tr>\n",
       "    <tr>\n",
       "      <th>3</th>\n",
       "      <td>2018</td>\n",
       "      <td>Austria</td>\n",
       "      <td>PM2.5</td>\n",
       "      <td>8822183</td>\n",
       "      <td>43050</td>\n",
       "      <td>11.2</td>\n",
       "      <td>5001.0</td>\n",
       "      <td>52145.0</td>\n",
       "    </tr>\n",
       "    <tr>\n",
       "      <th>4</th>\n",
       "      <td>2019</td>\n",
       "      <td>Austria</td>\n",
       "      <td>NO2</td>\n",
       "      <td>8858695</td>\n",
       "      <td>43050</td>\n",
       "      <td>8.7</td>\n",
       "      <td>1038.0</td>\n",
       "      <td>10735.0</td>\n",
       "    </tr>\n",
       "  </tbody>\n",
       "</table>\n",
       "</div>"
      ],
      "text/plain": [
       "   Year  Country Air Pollutant  Population  Populated Area [km2]  \\\n",
       "0  2018  Austria           NO2     8822183                 43050   \n",
       "1  2018  Austria            O3     8822183                 43050   \n",
       "2  2018  Austria          PM10     8822183                 43050   \n",
       "3  2018  Austria         PM2.5     8822183                 43050   \n",
       "4  2019  Austria           NO2     8858695                 43050   \n",
       "\n",
       "   Air Pollution Average [ug/m3]  Premature Deaths  Years Of Life Lost  \n",
       "0                            9.5            1228.0             12796.0  \n",
       "1                         7867.9             619.0              6756.0  \n",
       "2                           15.4               NaN                 NaN  \n",
       "3                           11.2            5001.0             52145.0  \n",
       "4                            8.7            1038.0             10735.0  "
      ]
     },
     "execution_count": 13,
     "metadata": {},
     "output_type": "execute_result"
    }
   ],
   "source": [
    "# Adding impurity: Inconsistent Formats in 'Year'\n",
    "year_indices = random.sample(range(len(df)), 10)  # Randomly select 10 indices\n",
    "df.loc[year_indices, 'Year'] = df.loc[year_indices, 'Year'].apply(lambda x: f\"{x} year\")\n",
    "\n",
    "# Displaying the modified DataFrame to verify the changes\n",
    "df.head()"
   ]
  },
  {
   "cell_type": "code",
   "execution_count": 14,
   "id": "ece0d615-1f0b-4a7d-ade1-cf36461355f0",
   "metadata": {},
   "outputs": [],
   "source": [
    "# Impurity 4 : Changing Country names to lowercase"
   ]
  },
  {
   "cell_type": "code",
   "execution_count": 15,
   "id": "cfa780d4-8f78-41b1-9559-8664ead0c953",
   "metadata": {},
   "outputs": [
    {
     "data": {
      "text/html": [
       "<div>\n",
       "<style scoped>\n",
       "    .dataframe tbody tr th:only-of-type {\n",
       "        vertical-align: middle;\n",
       "    }\n",
       "\n",
       "    .dataframe tbody tr th {\n",
       "        vertical-align: top;\n",
       "    }\n",
       "\n",
       "    .dataframe thead th {\n",
       "        text-align: right;\n",
       "    }\n",
       "</style>\n",
       "<table border=\"1\" class=\"dataframe\">\n",
       "  <thead>\n",
       "    <tr style=\"text-align: right;\">\n",
       "      <th></th>\n",
       "      <th>Year</th>\n",
       "      <th>Country</th>\n",
       "      <th>Air Pollutant</th>\n",
       "      <th>Population</th>\n",
       "      <th>Populated Area [km2]</th>\n",
       "      <th>Air Pollution Average [ug/m3]</th>\n",
       "      <th>Premature Deaths</th>\n",
       "      <th>Years Of Life Lost</th>\n",
       "    </tr>\n",
       "  </thead>\n",
       "  <tbody>\n",
       "    <tr>\n",
       "      <th>0</th>\n",
       "      <td>2018</td>\n",
       "      <td>Austria</td>\n",
       "      <td>NO2</td>\n",
       "      <td>8822183</td>\n",
       "      <td>43050</td>\n",
       "      <td>9.5</td>\n",
       "      <td>1228.0</td>\n",
       "      <td>12796.0</td>\n",
       "    </tr>\n",
       "    <tr>\n",
       "      <th>1</th>\n",
       "      <td>2018</td>\n",
       "      <td>austria</td>\n",
       "      <td>O3</td>\n",
       "      <td>8822183</td>\n",
       "      <td>43050</td>\n",
       "      <td>7867.9</td>\n",
       "      <td>619.0</td>\n",
       "      <td>6756.0</td>\n",
       "    </tr>\n",
       "    <tr>\n",
       "      <th>2</th>\n",
       "      <td>2018</td>\n",
       "      <td>Austria</td>\n",
       "      <td>PM10</td>\n",
       "      <td>8822183</td>\n",
       "      <td>43050</td>\n",
       "      <td>15.4</td>\n",
       "      <td>NaN</td>\n",
       "      <td>NaN</td>\n",
       "    </tr>\n",
       "    <tr>\n",
       "      <th>3</th>\n",
       "      <td>2018</td>\n",
       "      <td>Austria</td>\n",
       "      <td>PM2.5</td>\n",
       "      <td>8822183</td>\n",
       "      <td>43050</td>\n",
       "      <td>11.2</td>\n",
       "      <td>5001.0</td>\n",
       "      <td>52145.0</td>\n",
       "    </tr>\n",
       "    <tr>\n",
       "      <th>4</th>\n",
       "      <td>2019</td>\n",
       "      <td>Austria</td>\n",
       "      <td>NO2</td>\n",
       "      <td>8858695</td>\n",
       "      <td>43050</td>\n",
       "      <td>8.7</td>\n",
       "      <td>1038.0</td>\n",
       "      <td>10735.0</td>\n",
       "    </tr>\n",
       "  </tbody>\n",
       "</table>\n",
       "</div>"
      ],
      "text/plain": [
       "   Year  Country Air Pollutant  Population  Populated Area [km2]  \\\n",
       "0  2018  Austria           NO2     8822183                 43050   \n",
       "1  2018  austria            O3     8822183                 43050   \n",
       "2  2018  Austria          PM10     8822183                 43050   \n",
       "3  2018  Austria         PM2.5     8822183                 43050   \n",
       "4  2019  Austria           NO2     8858695                 43050   \n",
       "\n",
       "   Air Pollution Average [ug/m3]  Premature Deaths  Years Of Life Lost  \n",
       "0                            9.5            1228.0             12796.0  \n",
       "1                         7867.9             619.0              6756.0  \n",
       "2                           15.4               NaN                 NaN  \n",
       "3                           11.2            5001.0             52145.0  \n",
       "4                            8.7            1038.0             10735.0  "
      ]
     },
     "execution_count": 15,
     "metadata": {},
     "output_type": "execute_result"
    }
   ],
   "source": [
    "# Introducing an impurity by changing some random country names to lowercase\n",
    "lowercase_indices = random.sample(range(len(df)), 10)  # Randomly select 10 indices\n",
    "df.loc[lowercase_indices, 'Country'] = df.loc[lowercase_indices, 'Country'].str.lower()\n",
    "\n",
    "# Displaying the modified DataFrame to verify the changes\n",
    "df.head()\n"
   ]
  },
  {
   "cell_type": "code",
   "execution_count": 16,
   "id": "5a4ee5d7-4d6a-4abd-b6a7-a8b05343b199",
   "metadata": {},
   "outputs": [],
   "source": [
    "# Impurity 5: Adding Text Suffixes to Numeric Columns"
   ]
  },
  {
   "cell_type": "code",
   "execution_count": 17,
   "id": "0ac3dfb5-688a-43f4-b3ba-28bf1b856bd3",
   "metadata": {},
   "outputs": [
    {
     "name": "stderr",
     "output_type": "stream",
     "text": [
      "/tmp/ipykernel_10944/491889566.py:5: FutureWarning: Setting an item of incompatible dtype is deprecated and will raise in a future error of pandas. Value '['25153 km' '24582 km' '20389 km' '43050 km' '60511 km' '1658 km'\n",
      " '15868 km' '6504 km' '44196 km' '32912 km']' has dtype incompatible with int64, please explicitly cast to a compatible dtype first.\n",
      "  df.loc[area_indices, 'Populated Area [km2]'] = df.loc[area_indices, 'Populated Area [km2]'].astype(str) + \" km\"\n",
      "/tmp/ipykernel_10944/491889566.py:6: FutureWarning: Setting an item of incompatible dtype is deprecated and will raise in a future error of pandas. Value '['24.6ug/m' '9.4ug/m' '9.2ug/m' '7867.9ug/m' '7.0ug/m' '11.5ug/m'\n",
      " '11.8ug/m' '13.3ug/m' '10.9ug/m' '3515.7ug/m']' has dtype incompatible with float64, please explicitly cast to a compatible dtype first.\n",
      "  df.loc[pollution_indices, 'Air Pollution Average [ug/m3]'] = df.loc[pollution_indices, 'Air Pollution Average [ug/m3]'].astype(str) + \"ug/m\"\n"
     ]
    },
    {
     "data": {
      "text/html": [
       "<div>\n",
       "<style scoped>\n",
       "    .dataframe tbody tr th:only-of-type {\n",
       "        vertical-align: middle;\n",
       "    }\n",
       "\n",
       "    .dataframe tbody tr th {\n",
       "        vertical-align: top;\n",
       "    }\n",
       "\n",
       "    .dataframe thead th {\n",
       "        text-align: right;\n",
       "    }\n",
       "</style>\n",
       "<table border=\"1\" class=\"dataframe\">\n",
       "  <thead>\n",
       "    <tr style=\"text-align: right;\">\n",
       "      <th></th>\n",
       "      <th>Year</th>\n",
       "      <th>Country</th>\n",
       "      <th>Air Pollutant</th>\n",
       "      <th>Population</th>\n",
       "      <th>Populated Area [km2]</th>\n",
       "      <th>Air Pollution Average [ug/m3]</th>\n",
       "      <th>Premature Deaths</th>\n",
       "      <th>Years Of Life Lost</th>\n",
       "    </tr>\n",
       "  </thead>\n",
       "  <tbody>\n",
       "    <tr>\n",
       "      <th>0</th>\n",
       "      <td>2018</td>\n",
       "      <td>Austria</td>\n",
       "      <td>NO2</td>\n",
       "      <td>8822183</td>\n",
       "      <td>43050</td>\n",
       "      <td>9.5</td>\n",
       "      <td>1228.0</td>\n",
       "      <td>12796.0</td>\n",
       "    </tr>\n",
       "    <tr>\n",
       "      <th>1</th>\n",
       "      <td>2018</td>\n",
       "      <td>austria</td>\n",
       "      <td>O3</td>\n",
       "      <td>8822183</td>\n",
       "      <td>43050</td>\n",
       "      <td>7867.9ug/m</td>\n",
       "      <td>619.0</td>\n",
       "      <td>6756.0</td>\n",
       "    </tr>\n",
       "    <tr>\n",
       "      <th>2</th>\n",
       "      <td>2018</td>\n",
       "      <td>Austria</td>\n",
       "      <td>PM10</td>\n",
       "      <td>8822183</td>\n",
       "      <td>43050</td>\n",
       "      <td>15.4</td>\n",
       "      <td>NaN</td>\n",
       "      <td>NaN</td>\n",
       "    </tr>\n",
       "    <tr>\n",
       "      <th>3</th>\n",
       "      <td>2018</td>\n",
       "      <td>Austria</td>\n",
       "      <td>PM2.5</td>\n",
       "      <td>8822183</td>\n",
       "      <td>43050</td>\n",
       "      <td>11.2</td>\n",
       "      <td>5001.0</td>\n",
       "      <td>52145.0</td>\n",
       "    </tr>\n",
       "    <tr>\n",
       "      <th>4</th>\n",
       "      <td>2019</td>\n",
       "      <td>Austria</td>\n",
       "      <td>NO2</td>\n",
       "      <td>8858695</td>\n",
       "      <td>43050</td>\n",
       "      <td>8.7</td>\n",
       "      <td>1038.0</td>\n",
       "      <td>10735.0</td>\n",
       "    </tr>\n",
       "  </tbody>\n",
       "</table>\n",
       "</div>"
      ],
      "text/plain": [
       "   Year  Country Air Pollutant  Population Populated Area [km2]  \\\n",
       "0  2018  Austria           NO2     8822183                43050   \n",
       "1  2018  austria            O3     8822183                43050   \n",
       "2  2018  Austria          PM10     8822183                43050   \n",
       "3  2018  Austria         PM2.5     8822183                43050   \n",
       "4  2019  Austria           NO2     8858695                43050   \n",
       "\n",
       "  Air Pollution Average [ug/m3]  Premature Deaths  Years Of Life Lost  \n",
       "0                           9.5            1228.0             12796.0  \n",
       "1                    7867.9ug/m             619.0              6756.0  \n",
       "2                          15.4               NaN                 NaN  \n",
       "3                          11.2            5001.0             52145.0  \n",
       "4                           8.7            1038.0             10735.0  "
      ]
     },
     "execution_count": 17,
     "metadata": {},
     "output_type": "execute_result"
    }
   ],
   "source": [
    "# Adding impurity: appending \" km\" to random values in 'Populated Area [km2]' and \"ug/m\" to 'Air Pollution Average [ug/m3]'\n",
    "area_indices = random.sample(range(len(df)), 10)  # Randomly select 10 indices for area\n",
    "pollution_indices = random.sample(range(len(df)), 10)  # Randomly select 10 indices for pollution\n",
    "\n",
    "df.loc[area_indices, 'Populated Area [km2]'] = df.loc[area_indices, 'Populated Area [km2]'].astype(str) + \" km\"\n",
    "df.loc[pollution_indices, 'Air Pollution Average [ug/m3]'] = df.loc[pollution_indices, 'Air Pollution Average [ug/m3]'].astype(str) + \"ug/m\"\n",
    "\n",
    "# Displaying the modified DataFrame to verify the changes\n",
    "df.head()"
   ]
  },
  {
   "cell_type": "code",
   "execution_count": 18,
   "id": "15cbcc18-a4b1-48ae-abec-f0b0881fa4ca",
   "metadata": {},
   "outputs": [],
   "source": [
    "# Save the updated DataFrame to a new CSV file\n",
    "output_file_path = '2.air_quality_data_with_impurities_stage2.csv'\n",
    "df.to_csv(output_file_path, index=False)"
   ]
  },
  {
   "cell_type": "code",
   "execution_count": null,
   "id": "2ccc594d-72eb-458c-821e-cc119e975a62",
   "metadata": {},
   "outputs": [],
   "source": []
  },
  {
   "cell_type": "code",
   "execution_count": null,
   "id": "6f6f88f7-dda9-4321-84b0-df5c82ddaca0",
   "metadata": {},
   "outputs": [],
   "source": []
  },
  {
   "cell_type": "code",
   "execution_count": null,
   "id": "ea270386-5dfd-4c50-b0f1-8adee4653097",
   "metadata": {},
   "outputs": [],
   "source": []
  }
 ],
 "metadata": {
  "kernelspec": {
   "display_name": "Python 3 (ipykernel)",
   "language": "python",
   "name": "python3"
  },
  "language_info": {
   "codemirror_mode": {
    "name": "ipython",
    "version": 3
   },
   "file_extension": ".py",
   "mimetype": "text/x-python",
   "name": "python",
   "nbconvert_exporter": "python",
   "pygments_lexer": "ipython3",
   "version": "3.10.12"
  }
 },
 "nbformat": 4,
 "nbformat_minor": 5
}
