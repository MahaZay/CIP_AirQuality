{
 "cells": [
  {
   "cell_type": "code",
   "execution_count": 1,
   "id": "32af45ef-91cc-44c8-a1b6-9c6a84d5ad16",
   "metadata": {},
   "outputs": [],
   "source": [
    "import mechanicalsoup\n",
    "import pandas as pd\n",
    "import numpy as np\n",
    "from io import StringIO"
   ]
  },
  {
   "cell_type": "code",
   "execution_count": 2,
   "id": "7db4ceb7-bf44-4ded-b3c0-8e872cd34862",
   "metadata": {},
   "outputs": [
    {
     "name": "stdout",
     "output_type": "stream",
     "text": [
      "                Land  2018  2019\n",
      "0  Europäische Union  18.0  18.8\n",
      "1           Albanien  36.8  36.7\n",
      "2            Belgien   9.4   9.9\n",
      "3          Bulgarien  20.5  21.6\n",
      "4           Dänemark  35.4  37.2\n",
      "Table saved to 1.renewable_energy_europe.csv\n"
     ]
    }
   ],
   "source": [
    "# Create a browser object\n",
    "browser = mechanicalsoup.Browser()\n",
    "\n",
    "# URL of the page to scrape\n",
    "url = 'https://de.wikipedia.org/wiki/Erneuerbare_Energien_in_Europa'\n",
    "\n",
    "# Load the webpage\n",
    "page = browser.get(url)\n",
    "\n",
    "# Parse the HTML and find the table\n",
    "table = page.soup.find_all('table')[1]\n",
    "\n",
    "# Use pandas to read the HTML table\n",
    "html_table = str(table)\n",
    "\n",
    "# Replace ',' with '.' in the HTML table to fix the missing decimal points\n",
    "html_table = html_table.replace(',', '.')\n",
    "\n",
    "df = pd.read_html(StringIO(html_table), header=0)[0]\n",
    "\n",
    "# Specify the column indices you want to keep (0, 2, 3)\n",
    "desired_column_indices = [0, 2, 3]\n",
    "\n",
    "# Select only the desired columns\n",
    "df = df.iloc[:, desired_column_indices]\n",
    "\n",
    "# Display the first few rows of the DataFrame\n",
    "print(df.head())\n",
    "\n",
    "# Save the DataFrame to a CSV file\n",
    "csv_file = '1.renewable_energy_stage1.csv'\n",
    "df.to_csv(csv_file, index=False)\n",
    "\n",
    "# Print a message confirming the file save\n",
    "print(f'Table saved to {csv_file}')\n"
   ]
  },
  {
   "cell_type": "code",
   "execution_count": null,
   "id": "83baf93f-1e06-4f84-808f-c5fa60918187",
   "metadata": {},
   "outputs": [],
   "source": []
  }
 ],
 "metadata": {
  "kernelspec": {
   "display_name": "Python 3 (ipykernel)",
   "language": "python",
   "name": "python3"
  },
  "language_info": {
   "codemirror_mode": {
    "name": "ipython",
    "version": 3
   },
   "file_extension": ".py",
   "mimetype": "text/x-python",
   "name": "python",
   "nbconvert_exporter": "python",
   "pygments_lexer": "ipython3",
   "version": "3.10.12"
  }
 },
 "nbformat": 4,
 "nbformat_minor": 5
}
